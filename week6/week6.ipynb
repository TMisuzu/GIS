{
 "cells": [
  {
   "cell_type": "code",
   "execution_count": 11,
   "metadata": {},
   "outputs": [],
   "source": [
    "import pandas as pd\n",
    "import folium\n",
    "import matplotlib.pyplot as plt"
   ]
  },
  {
   "cell_type": "code",
   "execution_count": 14,
   "metadata": {},
   "outputs": [],
   "source": [
    "df = pd.read_csv('GIS.csv')"
   ]
  },
  {
   "cell_type": "code",
   "execution_count": 15,
   "metadata": {},
   "outputs": [
    {
     "data": {
      "text/html": [
       "<div>\n",
       "<style scoped>\n",
       "    .dataframe tbody tr th:only-of-type {\n",
       "        vertical-align: middle;\n",
       "    }\n",
       "\n",
       "    .dataframe tbody tr th {\n",
       "        vertical-align: top;\n",
       "    }\n",
       "\n",
       "    .dataframe thead th {\n",
       "        text-align: right;\n",
       "    }\n",
       "</style>\n",
       "<table border=\"1\" class=\"dataframe\">\n",
       "  <thead>\n",
       "    <tr style=\"text-align: right;\">\n",
       "      <th></th>\n",
       "      <th>name</th>\n",
       "      <th>description</th>\n",
       "      <th>latitude</th>\n",
       "      <th>longitude</th>\n",
       "      <th>colour</th>\n",
       "    </tr>\n",
       "  </thead>\n",
       "  <tbody>\n",
       "    <tr>\n",
       "      <th>0</th>\n",
       "      <td>宮島</td>\n",
       "      <td>行ってみたい観光スポット</td>\n",
       "      <td>34.392846</td>\n",
       "      <td>132.452266</td>\n",
       "      <td>orange</td>\n",
       "    </tr>\n",
       "    <tr>\n",
       "      <th>1</th>\n",
       "      <td>ホテルエスプル広島平和公園</td>\n",
       "      <td>Sakiが前泊するホテル</td>\n",
       "      <td>34.389116</td>\n",
       "      <td>132.456216</td>\n",
       "      <td>orange</td>\n",
       "    </tr>\n",
       "    <tr>\n",
       "      <th>2</th>\n",
       "      <td>広島現代美術館</td>\n",
       "      <td>Saki,Misuzu,Riria,Karenが金曜日に行く場所</td>\n",
       "      <td>34.386263</td>\n",
       "      <td>132.473582</td>\n",
       "      <td>green</td>\n",
       "    </tr>\n",
       "    <tr>\n",
       "      <th>3</th>\n",
       "      <td>広島テレビ</td>\n",
       "      <td>前泊メンバーでインタビュー</td>\n",
       "      <td>34.400276</td>\n",
       "      <td>132.475669</td>\n",
       "      <td>green</td>\n",
       "    </tr>\n",
       "    <tr>\n",
       "      <th>4</th>\n",
       "      <td>原爆ドーム</td>\n",
       "      <td>資料館拝観、Dialogue</td>\n",
       "      <td>34.395638</td>\n",
       "      <td>132.453603</td>\n",
       "      <td>green</td>\n",
       "    </tr>\n",
       "  </tbody>\n",
       "</table>\n",
       "</div>"
      ],
      "text/plain": [
       "            name                       description   latitude   longitude  \\\n",
       "0             宮島                      行ってみたい観光スポット  34.392846  132.452266   \n",
       "1  ホテルエスプル広島平和公園                      Sakiが前泊するホテル  34.389116  132.456216   \n",
       "2        広島現代美術館  Saki,Misuzu,Riria,Karenが金曜日に行く場所  34.386263  132.473582   \n",
       "3          広島テレビ                     前泊メンバーでインタビュー  34.400276  132.475669   \n",
       "4          原爆ドーム                    資料館拝観、Dialogue  34.395638  132.453603   \n",
       "\n",
       "   colour  \n",
       "0  orange  \n",
       "1  orange  \n",
       "2   green  \n",
       "3   green  \n",
       "4   green  "
      ]
     },
     "execution_count": 15,
     "metadata": {},
     "output_type": "execute_result"
    }
   ],
   "source": [
    "df"
   ]
  },
  {
   "cell_type": "code",
   "execution_count": 16,
   "metadata": {},
   "outputs": [
    {
     "data": {
      "text/plain": [
       "(5, 5)"
      ]
     },
     "execution_count": 16,
     "metadata": {},
     "output_type": "execute_result"
    }
   ],
   "source": [
    "df.shape"
   ]
  },
  {
   "cell_type": "code",
   "execution_count": 17,
   "metadata": {},
   "outputs": [
    {
     "name": "stdout",
     "output_type": "stream",
     "text": [
      "<class 'pandas.core.frame.DataFrame'>\n",
      "RangeIndex: 5 entries, 0 to 4\n",
      "Data columns (total 5 columns):\n",
      " #   Column       Non-Null Count  Dtype  \n",
      "---  ------       --------------  -----  \n",
      " 0   name         5 non-null      object \n",
      " 1   description  5 non-null      object \n",
      " 2   latitude     5 non-null      float64\n",
      " 3   longitude    5 non-null      float64\n",
      " 4   colour       5 non-null      object \n",
      "dtypes: float64(2), object(3)\n",
      "memory usage: 332.0+ bytes\n"
     ]
    }
   ],
   "source": [
    "df.info()"
   ]
  },
  {
   "cell_type": "code",
   "execution_count": 18,
   "metadata": {},
   "outputs": [
    {
     "data": {
      "text/plain": [
       "['name', 'description', 'latitude', 'longitude', 'colour']"
      ]
     },
     "execution_count": 18,
     "metadata": {},
     "output_type": "execute_result"
    }
   ],
   "source": [
    "df.columns.to_list()"
   ]
  },
  {
   "cell_type": "code",
   "execution_count": 19,
   "metadata": {},
   "outputs": [
    {
     "data": {
      "text/html": [
       "<div>\n",
       "<style scoped>\n",
       "    .dataframe tbody tr th:only-of-type {\n",
       "        vertical-align: middle;\n",
       "    }\n",
       "\n",
       "    .dataframe tbody tr th {\n",
       "        vertical-align: top;\n",
       "    }\n",
       "\n",
       "    .dataframe thead th {\n",
       "        text-align: right;\n",
       "    }\n",
       "</style>\n",
       "<table border=\"1\" class=\"dataframe\">\n",
       "  <thead>\n",
       "    <tr style=\"text-align: right;\">\n",
       "      <th></th>\n",
       "      <th>name</th>\n",
       "      <th>latitude</th>\n",
       "      <th>longitude</th>\n",
       "    </tr>\n",
       "  </thead>\n",
       "  <tbody>\n",
       "    <tr>\n",
       "      <th>0</th>\n",
       "      <td>宮島</td>\n",
       "      <td>34.392846</td>\n",
       "      <td>132.452266</td>\n",
       "    </tr>\n",
       "    <tr>\n",
       "      <th>1</th>\n",
       "      <td>ホテルエスプル広島平和公園</td>\n",
       "      <td>34.389116</td>\n",
       "      <td>132.456216</td>\n",
       "    </tr>\n",
       "    <tr>\n",
       "      <th>2</th>\n",
       "      <td>広島現代美術館</td>\n",
       "      <td>34.386263</td>\n",
       "      <td>132.473582</td>\n",
       "    </tr>\n",
       "    <tr>\n",
       "      <th>3</th>\n",
       "      <td>広島テレビ</td>\n",
       "      <td>34.400276</td>\n",
       "      <td>132.475669</td>\n",
       "    </tr>\n",
       "    <tr>\n",
       "      <th>4</th>\n",
       "      <td>原爆ドーム</td>\n",
       "      <td>34.395638</td>\n",
       "      <td>132.453603</td>\n",
       "    </tr>\n",
       "  </tbody>\n",
       "</table>\n",
       "</div>"
      ],
      "text/plain": [
       "            name   latitude   longitude\n",
       "0             宮島  34.392846  132.452266\n",
       "1  ホテルエスプル広島平和公園  34.389116  132.456216\n",
       "2        広島現代美術館  34.386263  132.473582\n",
       "3          広島テレビ  34.400276  132.475669\n",
       "4          原爆ドーム  34.395638  132.453603"
      ]
     },
     "execution_count": 19,
     "metadata": {},
     "output_type": "execute_result"
    }
   ],
   "source": [
    "df[['name','latitude','longitude']]"
   ]
  },
  {
   "cell_type": "code",
   "execution_count": 20,
   "metadata": {},
   "outputs": [
    {
     "data": {
      "text/plain": [
       "0    132.452266\n",
       "1    132.456216\n",
       "2    132.473582\n",
       "3    132.475669\n",
       "4    132.453603\n",
       "Name: longitude, dtype: float64"
      ]
     },
     "execution_count": 20,
     "metadata": {},
     "output_type": "execute_result"
    }
   ],
   "source": [
    "df['longitude']"
   ]
  },
  {
   "cell_type": "code",
   "execution_count": 21,
   "metadata": {},
   "outputs": [
    {
     "data": {
      "text/plain": [
       "[34.39284603, 34.38911573, 34.38626261, 34.400276, 34.3956379]"
      ]
     },
     "execution_count": 21,
     "metadata": {},
     "output_type": "execute_result"
    }
   ],
   "source": [
    "df['latitude'].to_list()"
   ]
  },
  {
   "cell_type": "code",
   "execution_count": 22,
   "metadata": {},
   "outputs": [
    {
     "data": {
      "text/plain": [
       "<Axes: >"
      ]
     },
     "execution_count": 22,
     "metadata": {},
     "output_type": "execute_result"
    },
    {
     "data": {
      "image/png": "[encoded data removed]",
      "text/plain": [
       "<Figure size 640x480 with 1 Axes>"
      ]
     },
     "metadata": {},
     "output_type": "display_data"
    }
   ],
   "source": [
    "df['latitude'].plot()"
   ]
  },
  {
   "cell_type": "code",
   "execution_count": 23,
   "metadata": {},
   "outputs": [
    {
     "data": {
      "text/plain": [
       "<Axes: >"
      ]
     },
     "execution_count": 23,
     "metadata": {},
     "output_type": "execute_result"
    },
    {
     "data": {
      "image/png": "[encoded data removed]",
      "text/plain": [
       "<Figure size 640x480 with 1 Axes>"
      ]
     },
     "metadata": {},
     "output_type": "display_data"
    }
   ],
   "source": [
    "df['latitude'].plot.box(color='orange')"
   ]
  },
  {
   "cell_type": "code",
   "execution_count": 24,
   "metadata": {},
   "outputs": [
    {
     "data": {
      "text/plain": [
       "<Axes: >"
      ]
     },
     "execution_count": 24,
     "metadata": {},
     "output_type": "execute_result"
    },
    {
     "data": {
      "image/png": "[encoded data removed]",
      "text/plain": [
       "<Figure size 640x480 with 1 Axes>"
      ]
     },
     "metadata": {},
     "output_type": "display_data"
    }
   ],
   "source": [
    "df['latitude'].plot.bar(color='green')"
   ]
  },
  {
   "cell_type": "code",
   "execution_count": 28,
   "metadata": {},
   "outputs": [
    {
     "data": {
      "text/plain": [
       "<Axes: xlabel='longitude', ylabel='latitude'>"
      ]
     },
     "execution_count": 28,
     "metadata": {},
     "output_type": "execute_result"
    },
    {
     "data": {
      "image/png": "[encoded data removed]",
      "text/plain": [
       "<Figure size 640x480 with 1 Axes>"
      ]
     },
     "metadata": {},
     "output_type": "display_data"
    }
   ],
   "source": [
    "df.plot.scatter(x='longitude',y='latitude',c='colour',s=50)"
   ]
  },
  {
   "cell_type": "code",
   "execution_count": 29,
   "metadata": {},
   "outputs": [
    {
     "data": {
      "text/plain": [
       "count     5.000000\n",
       "mean     34.392828\n",
       "std       0.005483\n",
       "min      34.386263\n",
       "25%      34.389116\n",
       "50%      34.392846\n",
       "75%      34.395638\n",
       "max      34.400276\n",
       "Name: latitude, dtype: float64"
      ]
     },
     "execution_count": 29,
     "metadata": {},
     "output_type": "execute_result"
    }
   ],
   "source": [
    "df['latitude'].describe()"
   ]
  },
  {
   "cell_type": "code",
   "execution_count": 30,
   "metadata": {},
   "outputs": [
    {
     "data": {
      "text/plain": [
       "count      5.000000\n",
       "mean     132.462267\n",
       "std        0.011395\n",
       "min      132.452266\n",
       "25%      132.453603\n",
       "50%      132.456216\n",
       "75%      132.473582\n",
       "max      132.475669\n",
       "Name: longitude, dtype: float64"
      ]
     },
     "execution_count": 30,
     "metadata": {},
     "output_type": "execute_result"
    }
   ],
   "source": [
    "df['longitude'].describe()"
   ]
  },
  {
   "cell_type": "code",
   "execution_count": 31,
   "metadata": {},
   "outputs": [
    {
     "data": {
      "text/plain": [
       "34.392827654"
      ]
     },
     "execution_count": 31,
     "metadata": {},
     "output_type": "execute_result"
    }
   ],
   "source": [
    "df['latitude'].mean()"
   ]
  },
  {
   "cell_type": "code",
   "execution_count": 32,
   "metadata": {},
   "outputs": [
    {
     "data": {
      "text/plain": [
       "34.39284603"
      ]
     },
     "execution_count": 32,
     "metadata": {},
     "output_type": "execute_result"
    }
   ],
   "source": [
    "df['latitude'].median()"
   ]
  },
  {
   "cell_type": "code",
   "execution_count": 33,
   "metadata": {},
   "outputs": [
    {
     "name": "stdout",
     "output_type": "stream",
     "text": [
      "34.392827654 132.46226698\n"
     ]
    }
   ],
   "source": [
    "center_lat = df['latitude'].mean()\n",
    "center_lon = df['longitude'].mean()\n",
    "\n",
    "print(center_lat,center_lon)"
   ]
  },
  {
   "cell_type": "code",
   "execution_count": 34,
   "metadata": {},
   "outputs": [
    {
     "name": "stdout",
     "output_type": "stream",
     "text": [
      "1\n",
      "4\n",
      "9\n",
      "16\n"
     ]
    }
   ],
   "source": [
    "numbers = [1,2,3,4]\n",
    "\n",
    "for num in numbers:\n",
    "    print(num*num)"
   ]
  },
  {
   "cell_type": "code",
   "execution_count": 36,
   "metadata": {},
   "outputs": [
    {
     "name": "stdout",
     "output_type": "stream",
     "text": [
      "Saki\n",
      "Misuzu\n"
     ]
    }
   ],
   "source": [
    "students = ['Saki','Misuzu',]\n",
    "for name in students:\n",
    "    print (name)"
   ]
  },
  {
   "cell_type": "code",
   "execution_count": 37,
   "metadata": {},
   "outputs": [
    {
     "name": "stdout",
     "output_type": "stream",
     "text": [
      "宮島\n",
      "ホテルエスプル広島平和公園\n",
      "広島現代美術館\n",
      "広島テレビ\n",
      "原爆ドーム\n"
     ]
    }
   ],
   "source": [
    "for index, row in df.iterrows():\n",
    "    print(row['name'])"
   ]
  },
  {
   "cell_type": "code",
   "execution_count": 38,
   "metadata": {},
   "outputs": [
    {
     "name": "stdout",
     "output_type": "stream",
     "text": [
      "宮島 34.39284603 132.4522656\n",
      "ホテルエスプル広島平和公園 34.38911573 132.4562155\n",
      "広島現代美術館 34.38626261 132.4735821\n",
      "広島テレビ 34.400276 132.475669\n",
      "原爆ドーム 34.3956379 132.4536027\n"
     ]
    }
   ],
   "source": [
    "for index, row in df.iterrows():\n",
    "    print(row['name'],row['latitude'],row['longitude'])"
   ]
  },
  {
   "cell_type": "code",
   "execution_count": 41,
   "metadata": {},
   "outputs": [
    {
     "data": {
      "text/html": [
       "<div style=\"width:100%;\"><div style=\"position:relative;width:100%;height:0;padding-bottom:60%;\"><span style=\"color:#565656\">Make this Notebook Trusted to load map: File -> Trust Notebook</span><iframe srcdoc=\"&lt;!DOCTYPE html&gt;\n",
       "&lt;html&gt;\n",
       "&lt;head&gt;\n",
       "    \n",
       "    &lt;meta http-equiv=&quot;content-type&quot; content=&quot;text/html; charset=UTF-8&quot; /&gt;\n",
       "    \n",
       "        &lt;script&gt;\n",
       "            L_NO_TOUCH = false;\n",
       "            L_DISABLE_3D = false;\n",
       "        &lt;/script&gt;\n",
       "    \n",
       "    &lt;style&gt;html, body {width: 100%;height: 100%;margin: 0;padding: 0;}&lt;/style&gt;\n",
       "    &lt;style&gt;#map {position:absolute;top:0;bottom:0;right:0;left:0;}&lt;/style&gt;\n",
       "    &lt;script src=&quot;https://cdn.jsdelivr.net/npm/leaflet@1.9.3/dist/leaflet.js&quot;&gt;&lt;/script&gt;\n",
       "    &lt;script src=&quot;https://code.jquery.com/jquery-3.7.1.min.js&quot;&gt;&lt;/script&gt;\n",
       "    &lt;script src=&quot;https://cdn.jsdelivr.net/npm/bootstrap@5.2.2/dist/js/bootstrap.bundle.min.js&quot;&gt;&lt;/script&gt;\n",
       "    &lt;script src=&quot;https://cdnjs.cloudflare.com/ajax/libs/Leaflet.awesome-markers/2.0.2/leaflet.awesome-markers.js&quot;&gt;&lt;/script&gt;\n",
       "    &lt;link rel=&quot;stylesheet&quot; href=&quot;https://cdn.jsdelivr.net/npm/leaflet@1.9.3/dist/leaflet.css&quot;/&gt;\n",
       "    &lt;link rel=&quot;stylesheet&quot; href=&quot;https://cdn.jsdelivr.net/npm/bootstrap@5.2.2/dist/css/bootstrap.min.css&quot;/&gt;\n",
       "    &lt;link rel=&quot;stylesheet&quot; href=&quot;https://netdna.bootstrapcdn.com/bootstrap/3.0.0/css/bootstrap.min.css&quot;/&gt;\n",
       "    &lt;link rel=&quot;stylesheet&quot; href=&quot;https://cdn.jsdelivr.net/npm/@fortawesome/fontawesome-free@6.2.0/css/all.min.css&quot;/&gt;\n",
       "    &lt;link rel=&quot;stylesheet&quot; href=&quot;https://cdnjs.cloudflare.com/ajax/libs/Leaflet.awesome-markers/2.0.2/leaflet.awesome-markers.css&quot;/&gt;\n",
       "    &lt;link rel=&quot;stylesheet&quot; href=&quot;https://cdn.jsdelivr.net/gh/python-visualization/folium/folium/templates/leaflet.awesome.rotate.min.css&quot;/&gt;\n",
       "    \n",
       "            &lt;meta name=&quot;viewport&quot; content=&quot;width=device-width,\n",
       "                initial-scale=1.0, maximum-scale=1.0, user-scalable=no&quot; /&gt;\n",
       "            &lt;style&gt;\n",
       "                #map_74eec4e10418eecd99681174d95ae23e {\n",
       "                    position: relative;\n",
       "                    width: 100.0%;\n",
       "                    height: 100.0%;\n",
       "                    left: 0.0%;\n",
       "                    top: 0.0%;\n",
       "                }\n",
       "                .leaflet-container { font-size: 1rem; }\n",
       "            &lt;/style&gt;\n",
       "        \n",
       "&lt;/head&gt;\n",
       "&lt;body&gt;\n",
       "    \n",
       "    \n",
       "            &lt;div class=&quot;folium-map&quot; id=&quot;map_74eec4e10418eecd99681174d95ae23e&quot; &gt;&lt;/div&gt;\n",
       "        \n",
       "&lt;/body&gt;\n",
       "&lt;script&gt;\n",
       "    \n",
       "    \n",
       "            var map_74eec4e10418eecd99681174d95ae23e = L.map(\n",
       "                &quot;map_74eec4e10418eecd99681174d95ae23e&quot;,\n",
       "                {\n",
       "                    center: [34.392827654, 132.46226698],\n",
       "                    crs: L.CRS.EPSG3857,\n",
       "                    zoom: 17,\n",
       "                    zoomControl: true,\n",
       "                    preferCanvas: false,\n",
       "                }\n",
       "            );\n",
       "\n",
       "            \n",
       "\n",
       "        \n",
       "    \n",
       "            var tile_layer_21fa0d08f02dc4720c9bb2f87eeeecea = L.tileLayer(\n",
       "                &quot;https://tile.openstreetmap.org/{z}/{x}/{y}.png&quot;,\n",
       "                {&quot;attribution&quot;: &quot;\\u0026copy; \\u003ca href=\\&quot;https://www.openstreetmap.org/copyright\\&quot;\\u003eOpenStreetMap\\u003c/a\\u003e contributors&quot;, &quot;detectRetina&quot;: false, &quot;maxNativeZoom&quot;: 19, &quot;maxZoom&quot;: 19, &quot;minZoom&quot;: 0, &quot;noWrap&quot;: false, &quot;opacity&quot;: 1, &quot;subdomains&quot;: &quot;abc&quot;, &quot;tms&quot;: false}\n",
       "            );\n",
       "        \n",
       "    \n",
       "            tile_layer_21fa0d08f02dc4720c9bb2f87eeeecea.addTo(map_74eec4e10418eecd99681174d95ae23e);\n",
       "        \n",
       "    \n",
       "            var marker_72bd95ae6a41ce45e2dc6659e8349c4d = L.marker(\n",
       "                [34.39284603, 132.4522656],\n",
       "                {}\n",
       "            ).addTo(map_74eec4e10418eecd99681174d95ae23e);\n",
       "        \n",
       "    \n",
       "            var icon_8ee432a392be2d7f8761f8b99d801c7d = L.AwesomeMarkers.icon(\n",
       "                {&quot;extraClasses&quot;: &quot;fa-rotate-0&quot;, &quot;icon&quot;: &quot;info-sign&quot;, &quot;iconColor&quot;: &quot;white&quot;, &quot;markerColor&quot;: &quot;orange&quot;, &quot;prefix&quot;: &quot;glyphicon&quot;}\n",
       "            );\n",
       "            marker_72bd95ae6a41ce45e2dc6659e8349c4d.setIcon(icon_8ee432a392be2d7f8761f8b99d801c7d);\n",
       "        \n",
       "    \n",
       "        var popup_68e9f6c6e4aacc10c20cbb6b6ca2d3e9 = L.popup({&quot;maxWidth&quot;: &quot;100%&quot;});\n",
       "\n",
       "        \n",
       "            \n",
       "                var html_7d0cbe36a0a8be5a971f6e6aa0508743 = $(`&lt;div id=&quot;html_7d0cbe36a0a8be5a971f6e6aa0508743&quot; style=&quot;width: 100.0%; height: 100.0%;&quot;&gt;&lt;div style=&quot;width:350px&quot;&gt;行ってみたい観光スポット&lt;/div&gt;&lt;/div&gt;`)[0];\n",
       "                popup_68e9f6c6e4aacc10c20cbb6b6ca2d3e9.setContent(html_7d0cbe36a0a8be5a971f6e6aa0508743);\n",
       "            \n",
       "        \n",
       "\n",
       "        marker_72bd95ae6a41ce45e2dc6659e8349c4d.bindPopup(popup_68e9f6c6e4aacc10c20cbb6b6ca2d3e9)\n",
       "        ;\n",
       "\n",
       "        \n",
       "    \n",
       "    \n",
       "            marker_72bd95ae6a41ce45e2dc6659e8349c4d.bindTooltip(\n",
       "                `&lt;div&gt;\n",
       "                     宮島\n",
       "                 &lt;/div&gt;`,\n",
       "                {&quot;sticky&quot;: true}\n",
       "            );\n",
       "        \n",
       "    \n",
       "            var marker_208ffdc78ecbf6d2cdb97def6fa5ca0b = L.marker(\n",
       "                [34.38911573, 132.4562155],\n",
       "                {}\n",
       "            ).addTo(map_74eec4e10418eecd99681174d95ae23e);\n",
       "        \n",
       "    \n",
       "            var icon_f337dc37d8c4695905a3944e1c616ab9 = L.AwesomeMarkers.icon(\n",
       "                {&quot;extraClasses&quot;: &quot;fa-rotate-0&quot;, &quot;icon&quot;: &quot;info-sign&quot;, &quot;iconColor&quot;: &quot;white&quot;, &quot;markerColor&quot;: &quot;orange&quot;, &quot;prefix&quot;: &quot;glyphicon&quot;}\n",
       "            );\n",
       "            marker_208ffdc78ecbf6d2cdb97def6fa5ca0b.setIcon(icon_f337dc37d8c4695905a3944e1c616ab9);\n",
       "        \n",
       "    \n",
       "        var popup_99b56a13b0c0d49137506e33d30acfed = L.popup({&quot;maxWidth&quot;: &quot;100%&quot;});\n",
       "\n",
       "        \n",
       "            \n",
       "                var html_8bc55aa64baa718fed1181f7bb1bac18 = $(`&lt;div id=&quot;html_8bc55aa64baa718fed1181f7bb1bac18&quot; style=&quot;width: 100.0%; height: 100.0%;&quot;&gt;&lt;div style=&quot;width:350px&quot;&gt;Sakiが前泊するホテル&lt;/div&gt;&lt;/div&gt;`)[0];\n",
       "                popup_99b56a13b0c0d49137506e33d30acfed.setContent(html_8bc55aa64baa718fed1181f7bb1bac18);\n",
       "            \n",
       "        \n",
       "\n",
       "        marker_208ffdc78ecbf6d2cdb97def6fa5ca0b.bindPopup(popup_99b56a13b0c0d49137506e33d30acfed)\n",
       "        ;\n",
       "\n",
       "        \n",
       "    \n",
       "    \n",
       "            marker_208ffdc78ecbf6d2cdb97def6fa5ca0b.bindTooltip(\n",
       "                `&lt;div&gt;\n",
       "                     ホテルエスプル広島平和公園\n",
       "                 &lt;/div&gt;`,\n",
       "                {&quot;sticky&quot;: true}\n",
       "            );\n",
       "        \n",
       "    \n",
       "            var marker_ddff9cca6e8dfafec1d7c9f7d83fe2df = L.marker(\n",
       "                [34.38626261, 132.4735821],\n",
       "                {}\n",
       "            ).addTo(map_74eec4e10418eecd99681174d95ae23e);\n",
       "        \n",
       "    \n",
       "            var icon_2fed091d13aa05e22b58e77ea7da1ee3 = L.AwesomeMarkers.icon(\n",
       "                {&quot;extraClasses&quot;: &quot;fa-rotate-0&quot;, &quot;icon&quot;: &quot;info-sign&quot;, &quot;iconColor&quot;: &quot;white&quot;, &quot;markerColor&quot;: &quot;green&quot;, &quot;prefix&quot;: &quot;glyphicon&quot;}\n",
       "            );\n",
       "            marker_ddff9cca6e8dfafec1d7c9f7d83fe2df.setIcon(icon_2fed091d13aa05e22b58e77ea7da1ee3);\n",
       "        \n",
       "    \n",
       "        var popup_02c393767708824e88aa5d6041c154cf = L.popup({&quot;maxWidth&quot;: &quot;100%&quot;});\n",
       "\n",
       "        \n",
       "            \n",
       "                var html_17db3c6ac8d6c93c05710acf4c3b7f1c = $(`&lt;div id=&quot;html_17db3c6ac8d6c93c05710acf4c3b7f1c&quot; style=&quot;width: 100.0%; height: 100.0%;&quot;&gt;&lt;div style=&quot;width:350px&quot;&gt;Saki,Misuzu,Riria,Karenが金曜日に行く場所&lt;/div&gt;&lt;/div&gt;`)[0];\n",
       "                popup_02c393767708824e88aa5d6041c154cf.setContent(html_17db3c6ac8d6c93c05710acf4c3b7f1c);\n",
       "            \n",
       "        \n",
       "\n",
       "        marker_ddff9cca6e8dfafec1d7c9f7d83fe2df.bindPopup(popup_02c393767708824e88aa5d6041c154cf)\n",
       "        ;\n",
       "\n",
       "        \n",
       "    \n",
       "    \n",
       "            marker_ddff9cca6e8dfafec1d7c9f7d83fe2df.bindTooltip(\n",
       "                `&lt;div&gt;\n",
       "                     広島現代美術館\n",
       "                 &lt;/div&gt;`,\n",
       "                {&quot;sticky&quot;: true}\n",
       "            );\n",
       "        \n",
       "    \n",
       "            var marker_d7074855957726b05db416bca6a1f5ab = L.marker(\n",
       "                [34.400276, 132.475669],\n",
       "                {}\n",
       "            ).addTo(map_74eec4e10418eecd99681174d95ae23e);\n",
       "        \n",
       "    \n",
       "            var icon_a074e86d8b3e4911208c5d03c0e58f8b = L.AwesomeMarkers.icon(\n",
       "                {&quot;extraClasses&quot;: &quot;fa-rotate-0&quot;, &quot;icon&quot;: &quot;info-sign&quot;, &quot;iconColor&quot;: &quot;white&quot;, &quot;markerColor&quot;: &quot;green&quot;, &quot;prefix&quot;: &quot;glyphicon&quot;}\n",
       "            );\n",
       "            marker_d7074855957726b05db416bca6a1f5ab.setIcon(icon_a074e86d8b3e4911208c5d03c0e58f8b);\n",
       "        \n",
       "    \n",
       "        var popup_ea6f2bc689c0c3cb3a7bb239907ed494 = L.popup({&quot;maxWidth&quot;: &quot;100%&quot;});\n",
       "\n",
       "        \n",
       "            \n",
       "                var html_dfcc440a730db0f9b63d3ecdd590f276 = $(`&lt;div id=&quot;html_dfcc440a730db0f9b63d3ecdd590f276&quot; style=&quot;width: 100.0%; height: 100.0%;&quot;&gt;&lt;div style=&quot;width:350px&quot;&gt;前泊メンバーでインタビュー&lt;/div&gt;&lt;/div&gt;`)[0];\n",
       "                popup_ea6f2bc689c0c3cb3a7bb239907ed494.setContent(html_dfcc440a730db0f9b63d3ecdd590f276);\n",
       "            \n",
       "        \n",
       "\n",
       "        marker_d7074855957726b05db416bca6a1f5ab.bindPopup(popup_ea6f2bc689c0c3cb3a7bb239907ed494)\n",
       "        ;\n",
       "\n",
       "        \n",
       "    \n",
       "    \n",
       "            marker_d7074855957726b05db416bca6a1f5ab.bindTooltip(\n",
       "                `&lt;div&gt;\n",
       "                     広島テレビ\n",
       "                 &lt;/div&gt;`,\n",
       "                {&quot;sticky&quot;: true}\n",
       "            );\n",
       "        \n",
       "    \n",
       "            var marker_80903ef9eb56ae006136e8942fcbc25a = L.marker(\n",
       "                [34.3956379, 132.4536027],\n",
       "                {}\n",
       "            ).addTo(map_74eec4e10418eecd99681174d95ae23e);\n",
       "        \n",
       "    \n",
       "            var icon_b861e28b889f0f3c37e7909ec9f54f68 = L.AwesomeMarkers.icon(\n",
       "                {&quot;extraClasses&quot;: &quot;fa-rotate-0&quot;, &quot;icon&quot;: &quot;info-sign&quot;, &quot;iconColor&quot;: &quot;white&quot;, &quot;markerColor&quot;: &quot;green&quot;, &quot;prefix&quot;: &quot;glyphicon&quot;}\n",
       "            );\n",
       "            marker_80903ef9eb56ae006136e8942fcbc25a.setIcon(icon_b861e28b889f0f3c37e7909ec9f54f68);\n",
       "        \n",
       "    \n",
       "        var popup_0265f604562e22126a1ccee03fc1b10c = L.popup({&quot;maxWidth&quot;: &quot;100%&quot;});\n",
       "\n",
       "        \n",
       "            \n",
       "                var html_871bd0ad2e9c5ccea7bc10531d6b2e93 = $(`&lt;div id=&quot;html_871bd0ad2e9c5ccea7bc10531d6b2e93&quot; style=&quot;width: 100.0%; height: 100.0%;&quot;&gt;&lt;div style=&quot;width:350px&quot;&gt;資料館拝観、Dialogue&lt;/div&gt;&lt;/div&gt;`)[0];\n",
       "                popup_0265f604562e22126a1ccee03fc1b10c.setContent(html_871bd0ad2e9c5ccea7bc10531d6b2e93);\n",
       "            \n",
       "        \n",
       "\n",
       "        marker_80903ef9eb56ae006136e8942fcbc25a.bindPopup(popup_0265f604562e22126a1ccee03fc1b10c)\n",
       "        ;\n",
       "\n",
       "        \n",
       "    \n",
       "    \n",
       "            marker_80903ef9eb56ae006136e8942fcbc25a.bindTooltip(\n",
       "                `&lt;div&gt;\n",
       "                     原爆ドーム\n",
       "                 &lt;/div&gt;`,\n",
       "                {&quot;sticky&quot;: true}\n",
       "            );\n",
       "        \n",
       "&lt;/script&gt;\n",
       "&lt;/html&gt;\" style=\"position:absolute;width:100%;height:100%;left:0;top:0;border:none !important;\" allowfullscreen webkitallowfullscreen mozallowfullscreen></iframe></div></div>"
      ],
      "text/plain": [
       "<folium.folium.Map at 0x136862790>"
      ]
     },
     "execution_count": 41,
     "metadata": {},
     "output_type": "execute_result"
    }
   ],
   "source": [
    "m = folium.Map(location=[center_lat,center_lon], zoom_start=17)\n",
    "\n",
    "for index, row in df.iterrows():\n",
    "    latlon = [row['latitude'],row['longitude']]\n",
    "    folium.Marker(latlon, \n",
    "                  popup='<div style=\"width:350px\">'+row['description']+'</div>', \n",
    "                  tooltip=row['name'],\n",
    "                  icon=folium.Icon(color=row['colour']\n",
    "                )).add_to(m)\n",
    "\n",
    "m"
   ]
  },
  {
   "cell_type": "code",
   "execution_count": 42,
   "metadata": {},
   "outputs": [],
   "source": [
    "m.save(\"map.html\")"
   ]
  },
  {
   "cell_type": "code",
   "execution_count": null,
   "metadata": {},
   "outputs": [],
   "source": []
  }
 ],
 "metadata": {
  "kernelspec": {
   "display_name": "gis",
   "language": "python",
   "name": "python3"
  },
  "language_info": {
   "codemirror_mode": {
    "name": "ipython",
    "version": 3
   },
   "file_extension": ".py",
   "mimetype": "text/x-python",
   "name": "python",
   "nbconvert_exporter": "python",
   "pygments_lexer": "ipython3",
   "version": "3.11.9"
  }
 },
 "nbformat": 4,
 "nbformat_minor": 2
}
