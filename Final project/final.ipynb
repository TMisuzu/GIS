{
 "cells": [
  {
   "cell_type": "markdown",
   "metadata": {},
   "source": [
    "広島県のメッシュを利用し、時間経過による人口密度と観光客数の変化を可視化する。"
   ]
  },
  {
   "cell_type": "code",
   "execution_count": 1,
   "metadata": {},
   "outputs": [],
   "source": [
    "import geopandas as gpd\n",
    "import pandas as pd\n",
    "import contextily as ctx\n",
    "import plotly.express as px\n",
    "import contextily as cx\n",
    "import numpy as np\n",
    "import matplotlib.pyplot as plt\n",
    "\n",
    "\n",
    "import matplotlib as mpl\n",
    "\n",
    "\n",
    "mpl.rc('font',family='Hiragino Maru Gothic Pro')"
   ]
  },
  {
   "cell_type": "code",
   "execution_count": 8,
   "metadata": {},
   "outputs": [],
   "source": [
    "\n",
    "hiroshimamesh1 = gpd.read_file('data/MESH05132.shp')\n",
    "hiroshimamesh2 = gpd.read_file('data/MESH05133.shp')\n",
    "hiroshimamesh3 = gpd.read_file('data/MESH05232.shp')\n",
    "hiroshimamesh4 = gpd.read_file('data/MESH05233.shp')\n"
   ]
  },
  {
   "cell_type": "code",
   "execution_count": null,
   "metadata": {},
   "outputs": [],
   "source": []
  }
 ],
 "metadata": {
  "kernelspec": {
   "display_name": "gis",
   "language": "python",
   "name": "python3"
  },
  "language_info": {
   "codemirror_mode": {
    "name": "ipython",
    "version": 3
   },
   "file_extension": ".py",
   "mimetype": "text/x-python",
   "name": "python",
   "nbconvert_exporter": "python",
   "pygments_lexer": "ipython3",
   "version": "3.11.9"
  }
 },
 "nbformat": 4,
 "nbformat_minor": 2
}
